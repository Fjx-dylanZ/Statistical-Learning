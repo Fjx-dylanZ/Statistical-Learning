{
 "cells": [
  {
   "cell_type": "code",
   "execution_count": 2,
   "metadata": {},
   "outputs": [],
   "source": [
    "import pandas as pd\n",
    "import numpy as np\n"
   ]
  },
  {
   "cell_type": "code",
   "execution_count": 7,
   "metadata": {},
   "outputs": [],
   "source": [
    "# Full model\n",
    "def q1_midterm1_predict(test, train, seed, **kwargs):\n",
    "    from sklearn.ensemble import RandomForestRegressor\n",
    "    assert isinstance(test, pd.DataFrame)\n",
    "    assert isinstance(train, pd.DataFrame)\n",
    "    assert isinstance(seed, int)\n",
    "    if 'log_transform' in kwargs:\n",
    "        log_transform = kwargs['log_transform']\n",
    "        assert isinstance(log_transform, bool)\n",
    "    else:\n",
    "        log_transform = False\n",
    "    x_train = train.drop(['shares'], axis=1)\n",
    "    y_train = train['shares']\n",
    "\n",
    "    x_test = test.drop(['shares'], axis=1)\n",
    "    y_test = test['shares']\n",
    "\n",
    "    if log_transform:\n",
    "        y_train = np.log(y_train)\n",
    "        y_test = np.log(y_test)\n",
    "\n",
    "    params = {'max_depth': 143,\n",
    "    'max_features': 0.3433828234703068,\n",
    "    'min_samples_leaf': 0.00018962233537909192,\n",
    "    'min_samples_split': 0.00023545790154752035,\n",
    "    'n_estimators': 1082}\n",
    "\n",
    "    rf = RandomForestRegressor(random_state=seed, n_jobs=-1, **params)\n",
    "    rf.fit(x_train, y_train)\n",
    "    y_pred = rf.predict(x_test)\n",
    "    return y_pred\n"
   ]
  },
  {
   "cell_type": "code",
   "execution_count": 44,
   "metadata": {},
   "outputs": [],
   "source": [
    "def q3_midterm1_predict(test, train, seed):\n",
    "    from sklearn.neighbors import KNeighborsRegressor\n",
    "    assert isinstance(test, pd.DataFrame)\n",
    "    assert isinstance(train, pd.DataFrame)\n",
    "    assert isinstance(seed, int)\n",
    "    assert test.columns.equals(train.columns)\n",
    "    assert train.shape[1] == test.shape[1] == 6\n",
    "\n",
    "    x_train = train.drop(['shares'], axis=1)\n",
    "    y_train = train['shares']\n",
    "\n",
    "    x_test = test.drop(['shares'], axis=1)\n",
    "    y_test = test['shares']\n",
    "\n",
    "    # log_transform\n",
    "    y_train = np.log(y_train)\n",
    "    y_test = np.log(y_test)\n",
    "    \n",
    "    params = {'n_neighbors': 192}\n",
    "\n",
    "    knn = KNeighborsRegressor(n_jobs=-1, **params) # does not have a random_state\n",
    "    knn.fit(x_train, y_train)\n",
    "    y_pred = knn.predict(x_test)\n",
    "    return y_pred\n"
   ]
  },
  {
   "cell_type": "code",
   "execution_count": 42,
   "metadata": {},
   "outputs": [],
   "source": [
    "def q5_midterm1_predict(test, train, seed):\n",
    "    from sklearn.linear_model import LinearRegression\n",
    "    assert isinstance(test, pd.DataFrame)\n",
    "    assert isinstance(train, pd.DataFrame)\n",
    "    assert isinstance(seed, int)\n",
    "    assert test.columns.equals(train.columns)\n",
    "    assert train.shape[1] == test.shape[1] == 2\n",
    "\n",
    "    x_train = train.drop(['shares'], axis=1)\n",
    "    y_train = train['shares']\n",
    "\n",
    "    x_test = test.drop(['shares'], axis=1)\n",
    "    y_test = test['shares']\n",
    "\n",
    "    # log_transform\n",
    "    y_train = np.log(y_train)\n",
    "    y_test = np.log(y_test)\n",
    "    \n",
    "    params = {'fit_intercept': True}\n",
    "\n",
    "    x_train['x^2'] = x_train[x_train.columns[0]] ** 2\n",
    "    x_train['x^3'] = x_train[x_train.columns[0]] ** 3\n",
    "\n",
    "    x_test['x^2'] = x_test[x_train.columns[0]] ** 2\n",
    "    x_test['x^3'] = x_test[x_train.columns[0]] ** 3\n",
    "    linreg = LinearRegression(**params) # does not have a random_state\n",
    "    linreg.fit(x_train, y_train)\n",
    "    y_pred = linreg.predict(x_test)\n",
    "    return y_pred"
   ]
  },
  {
   "cell_type": "code",
   "execution_count": null,
   "metadata": {},
   "outputs": [],
   "source": [
    "# test code\n",
    "train_df = pd.read_csv(\"midterm1_train.csv\")\n",
    "train_df = train_df.drop(['url', 'timedelta'], axis=1)\n",
    "\n",
    "from sklearn.model_selection import train_test_split\n",
    "train, test = train_test_split(train_df, test_size=0.2, random_state=42)\n",
    "# MSE\n",
    "def get_mse(y_pred, y_true):\n",
    "    return np.mean((y_pred - y_true) ** 2)\n"
   ]
  },
  {
   "cell_type": "code",
   "execution_count": 10,
   "metadata": {},
   "outputs": [
    {
     "data": {
      "text/plain": [
       "0.7266640486031579"
      ]
     },
     "execution_count": 10,
     "metadata": {},
     "output_type": "execute_result"
    }
   ],
   "source": [
    "get_mse(q1_midterm1_predict(test, train, 42, log_transform=True), np.log(test['shares']))\n"
   ]
  },
  {
   "cell_type": "code",
   "execution_count": 46,
   "metadata": {},
   "outputs": [
    {
     "data": {
      "text/plain": [
       "13016.8699238041"
      ]
     },
     "execution_count": 46,
     "metadata": {},
     "output_type": "execute_result"
    }
   ],
   "source": [
    "get_mse(q1_midterm1_predict(test, train, 42, log_transform=False), test['shares']) ** 0.5"
   ]
  },
  {
   "cell_type": "code",
   "execution_count": 45,
   "metadata": {},
   "outputs": [
    {
     "data": {
      "text/plain": [
       "0.8051652656694734"
      ]
     },
     "execution_count": 45,
     "metadata": {},
     "output_type": "execute_result"
    }
   ],
   "source": [
    "get_mse(q3_midterm1_predict(test[['kw_avg_avg', 'LDA_02', 'is_weekend', 'n_unique_tokens', 'num_hrefs', 'shares']], train[['kw_avg_avg', 'LDA_02', 'is_weekend', 'n_unique_tokens', 'num_hrefs', 'shares']], 42), np.log(test['shares']))"
   ]
  },
  {
   "cell_type": "code",
   "execution_count": 43,
   "metadata": {},
   "outputs": [
    {
     "data": {
      "text/plain": [
       "0.8092643635085588"
      ]
     },
     "execution_count": 43,
     "metadata": {},
     "output_type": "execute_result"
    }
   ],
   "source": [
    "get_mse(q5_midterm1_predict(test[['kw_avg_avg', 'shares']], train[['kw_avg_avg', 'shares']], 42), np.log(test['shares']))"
   ]
  }
 ],
 "metadata": {
  "interpreter": {
   "hash": "e3295038bb652458bc3cb1695033247a2c9b62f5cdecf1e85fbfea6ea66d8cc6"
  },
  "kernelspec": {
   "display_name": "Python 3.10.2 ('venv': venv)",
   "language": "python",
   "name": "python3"
  },
  "language_info": {
   "codemirror_mode": {
    "name": "ipython",
    "version": 3
   },
   "file_extension": ".py",
   "mimetype": "text/x-python",
   "name": "python",
   "nbconvert_exporter": "python",
   "pygments_lexer": "ipython3",
   "version": "3.10.2"
  },
  "orig_nbformat": 4
 },
 "nbformat": 4,
 "nbformat_minor": 2
}
